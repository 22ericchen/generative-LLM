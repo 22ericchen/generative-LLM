{
 "cells": [
  {
   "cell_type": "markdown",
   "metadata": {},
   "source": [
    "Homework 3: n-gram LM\n",
    "----\n",
    "\n",
    "Due date: February 7th, 2024\n",
    "\n",
    "Points: 45\n",
    "\n",
    "Goals:\n",
    "- understand the difficulties of counting and probablities in NLP applications\n",
    "- work with real world data to build a functioning language model\n",
    "- stress test your model (to some extent)\n",
    "\n",
    "Complete in groups of: __one (individually)__\n",
    "\n",
    "Allowed python modules:\n",
    "- `numpy`, `matplotlib`, and all built-in python libraries (e.g. `math` and `string`)\n",
    "- do not use `nltk` or `pandas`\n",
    "\n",
    "Instructions:\n",
    "- Complete outlined problems in this notebook. \n",
    "- When you have finished, __clear the kernel__ and __run__ your notebook \"fresh\" from top to bottom. Ensure that there are __no errors__. \n",
    "    - If a problem asks for you to write code that does result in an error (as in, the answer to the problem is an error), leave the code in your notebook but commented out so that running from top to bottom does not result in any errors.\n",
    "- Double check that you have completed Task 0.\n",
    "- Submit your work on Gradescope.\n",
    "- Double check that your submission on Gradescope looks like you believe it should __and__ that all partners are included (for partner work).\n"
   ]
  },
  {
   "cell_type": "markdown",
   "metadata": {},
   "source": [
    "Task 0: Name, References, Reflection (5 points)\n",
    "---\n",
    "\n",
    "Name: Eric Chen\n",
    "\n",
    "References\n",
    "---\n",
    "List the resources you consulted to complete this homework here. Write one sentence per resource about what it provided to you. If you consulted no references to complete your assignment, write a brief sentence stating that this is the case and why it was the case for you.\n",
    "\n",
    "(Example)\n",
    "https://web.stanford.edu/~jurafsky/icslp-red.pdf\n",
    "    - read more about the Berp data set\n",
    "https://www.geeksforgeeks.org/string-slicing-in-python/\n",
    "    - learned how to use String splicing in python\n",
    "https://www.w3schools.com/python/pandas/pandas_csv.asp\n",
    "    - relearned how to parse the text from a specificic column in a .csv file\n",
    "\n",
    "AI Collaboration\n",
    "---\n",
    "Following the *AI Collaboration Policy* in the syllabus, please cite any LLMs that you used here and briefly describe what you used them for. Additionally, provide comments in-line identifying the specific sections that you used LLMs on, if you used them towards the generation of any of your answers.\n",
    "\n",
    "Reflection\n",
    "----\n",
    "Answer the following questions __after__ you complete this assignment (no more than 1 sentence per question required, this section is graded on completion):\n",
    "\n",
    "1. Does this work reflect your best effort? Yes, I spent a lot of time understanding and documenting this assignment\n",
    "2. What was/were the most challenging part(s) of the assignment? The most challenging portion of this assignment was implementing the generative model\n",
    "3. If you want feedback, what function(s) or problem(s) would you like feedback on and why? I want feedback on how correctly I implemented the generative model."
   ]
  },
  {
   "cell_type": "markdown",
   "metadata": {},
   "source": [
    "Task 1: Berp Data Write-Up (5 points)\n",
    "---\n",
    "\n",
    "Every time you use a data set in an NLP application (or in any software application), you should be able to answer a set of questions about that data. Answer these now. Default to no more than 1 sentence per question needed. If more explanation is necessary, do give it."
   ]
  },
  {
   "cell_type": "markdown",
   "metadata": {},
   "source": [
    "This is about the __berp__ data set.\n",
    "\n",
    "1. Where did you get the data from? https://www1.icsi.berkeley.edu/Speech/berp.html\n",
    "2. How was the data collected (where did the people acquiring the data get it from and how)? \n",
    "It was collected by recording and listening to non-native english speakers in different situations\n",
    "3. How large is the dataset? (# lines, # tokens) \n",
    "This data set has 7500 lines and 1500 tokens.\n",
    "4. What is your data? (i.e. newswire, tweets, books, blogs, etc) \n",
    "It consists of english speech.\n",
    "5. Who produced the data? (who were the authors of the text? Your answer might be a specific person or a particular group of people)\n",
    "Nelson morgan and the International Computer Science Institute."
   ]
  },
  {
   "cell_type": "markdown",
   "metadata": {},
   "source": [
    "Task 2: Implement an n-gram Language Model (30 points)\n",
    "----\n",
    "\n",
    "Implement the `LanguageModel` class as outlined in the provided `lm_starter.py` file. Do not change function signatures (the unit tests that we provide and in the autograder will break).\n",
    "\n",
    "Your language model:\n",
    "- *must* work for both the unigram and bigram cases (BONUS section (see end)): 5 points are allocated to an experiment involving larger values of `n`)\n",
    "    - hint: try to implement the bigram case as a generalized \"n greater than 1\" case\n",
    "- should be *token agnostic* (this means that if we give the model text tokenized as single characters, it will function as a character language model and if we give the model text tokenized as \"words\" (or \"traditionally\"), then it will function as a language model with those tokens)\n",
    "- will use Laplace smoothing\n",
    "- will replace all tokens that occur only once with `<UNK>` at train time\n",
    "    - do not add `<UNK>` to your vocabulary if no tokens in the training data occur only once!\n",
    "\n",
    "We have provided:\n",
    "- a function to read in files\n",
    "- some functions to change a list of strings into tokens\n",
    "- the skeleton of the `LanguageModel` class\n",
    "\n",
    "You need to implement:\n",
    "- all functions marked\n",
    "\n",
    "You may implement:\n",
    "- additional functions/methods as helpful to you\n",
    "\n",
    "As a guideline, including comments, and some debugging code that can be run with `verbose` parameters, our solution is ~300 lines. (~+120 lines versus the starter code).\n",
    "\n",
    "Points breakdown marked in code below."
   ]
  },
  {
   "cell_type": "code",
   "execution_count": 27,
   "metadata": {
    "tags": []
   },
   "outputs": [],
   "source": [
    "# rename your lm_starter.py file to lm_model.py and put in the same directory as this file\n",
    "import lm_model as lm\n",
    "from lm_model import LanguageModel\n",
    "import numpy as np\n",
    "import matplotlib.pyplot as plt\n",
    "import pandas as pd"
   ]
  },
  {
   "cell_type": "code",
   "execution_count": 13,
   "metadata": {
    "tags": []
   },
   "outputs": [
    {
     "name": "stdout",
     "output_type": "stream",
     "text": [
      "[['<s>', 'ham', 'ham', 'sam', 'i', 'i', 'i', 'am', 'i', 'sam', 'am', 'ham', 'i', 'i', 'am', '</s>'], ['<s>', 'ham', 'i', 'ham', 'sam', 'am', '</s>']]\n",
      "[['<s>', 'i', 'am', 'sam', 'i', 'am', '</s>'], ['<s>', 'i', 'am', '</s>']]\n"
     ]
    }
   ],
   "source": [
    "# test the language model (unit tests)\n",
    "import test_minitrainingprovided as test\n",
    "\n",
    "# passing all these tests is a good indication that your model\n",
    "# is correct. They are *not a guarantee*, so make sure to look\n",
    "# at the tests and the cases that they cover. (we'll be testing\n",
    "# your model against all of the testing data in addition).\n",
    "\n",
    "# autograder points in gradescope are assigned SIXTY points\n",
    "# this is essentially 60 points for correctly implementing your\n",
    "# underlying model\n",
    "# there are an additional 10 points manually graded for the correctness\n",
    "# parts of your sentence generation\n",
    "\n",
    "# make sure all training files are in a \"training_files\" directory \n",
    "# that is in the same directory as this notebook\n",
    "unittest = test.TestMiniTraining()\n",
    "unittest.test_createunigrammodellaplace()\n",
    "unittest.test_createbigrammodellaplace()\n",
    "unittest.test_unigramlaplace()\n",
    "unittest.test_unigramunknownslaplace()\n",
    "unittest.test_bigramlaplace()\n",
    "unittest.test_bigramunknownslaplace()\n",
    "# produces output\n",
    "unittest.test_generateunigramconcludes()\n",
    "# produces output\n",
    "unittest.test_generatebigramconcludes()\n",
    "\n",
    "unittest.test_onlyunknownsgenerationandscoring()"
   ]
  },
  {
   "cell_type": "code",
   "execution_count": 45,
   "metadata": {
    "tags": []
   },
   "outputs": [
    {
     "name": "stdout",
     "output_type": "stream",
     "text": [
      "<s> i don't want some mexican place </s>\n",
      "<s> i want an italian restaurants within walking distance from icsi </s>\n",
      "<s> for a nice </s>\n",
      "<s> do you have indian food </s>\n",
      "<s> and not more about oliveto's </s>\n",
      "<s> can you know about caffe nefeli </s>\n",
      "<s> uh uh inexpensive chinese food </s>\n",
      "<s> tell me the eiffel at most five dollars or no more about indian food </s>\n",
      "<s> i want to get a reservation for lunch </s>\n",
      "<s> okay what's with south american </s>\n"
     ]
    }
   ],
   "source": [
    "# 10 points\n",
    "\n",
    "# instantiate a bigram language model, train it, and generate ten sentences\n",
    "# make sure your output is nicely formatted!\n",
    "ngram = 2\n",
    "training_file_path = \"training_files/berp-training.txt\"\n",
    "# optional parameter tells the tokenize function how to tokenize\n",
    "by_char = False\n",
    "data = lm.read_file(training_file_path)\n",
    "tokens = lm.tokenize(data, ngram, by_char=by_char)\n",
    "\n",
    "# YOUR CODE HERE\n",
    "testLM = LanguageModel(ngram)\n",
    "testLM.train(tokens)\n",
    "sentences = testLM.generate(10)\n",
    "for sentence in sentences:\n",
    "    print(' '.join(sentence), end = \"\\n\")"
   ]
  },
  {
   "cell_type": "code",
   "execution_count": 63,
   "metadata": {
    "tags": []
   },
   "outputs": [
    {
     "name": "stdout",
     "output_type": "stream",
     "text": [
      "mean is 4.962082362726267e-05\n",
      "standard deviation is 0.000285298086084196\n"
     ]
    }
   ],
   "source": [
    "# 5 points\n",
    "\n",
    "# evaluate your bigram model on the test data\n",
    "# score each line in the test data individually, then calculate the average score\n",
    "# you need not re-train your model\n",
    "test_path = \"testing_files/berp-test.txt\"\n",
    "test_data = lm.read_file(test_path)\n",
    "scores = []\n",
    "\n",
    "# YOUR CODE HERE\n",
    "tokens = [lm.tokenize_line(line, ngram, by_char) for line in test_data]\n",
    "for sequence in tokens:\n",
    "    scores.append(testLM.score(sequence))\n",
    "\n",
    "# Print out the mean score and standard deviation\n",
    "# for words-as-tokens, these values should be\n",
    "# ~4.9 * 10^-5 and 0.000285\n",
    "print(f\"mean is {sum(scores)/len(scores)}\")\n",
    "print(f\"standard deviation is {np.std(scores)}\")"
   ]
  },
  {
   "cell_type": "code",
   "execution_count": 68,
   "metadata": {
    "tags": []
   },
   "outputs": [
    {
     "name": "stdout",
     "output_type": "stream",
     "text": [
      "<s> Some Palestinians say they endured </s>\n",
      "<s> Advocates say US assessment aims to create unity government and war crimes in Gaza. </s>\n",
      "<s> A Palestinian man was killed at least five and wounding dozens. </s>\n",
      "<s> ICC case </s>\n",
      "<s> Why those who were released by Hamas at UN meetings but can’t vote on Gaza when civilians were being killed at least 13 people. </s>\n"
     ]
    }
   ],
   "source": [
    "# 15 points total\n",
    "\n",
    "# see if you can train your model on the data you found for your first homework (5 points)\n",
    "reader = pd.read_csv('training_files/news_data.csv')\n",
    "reader['description'] = reader['description'].str.replace('\\xad', '')\n",
    "descriptions = reader['description'].str.split()\n",
    "\n",
    "tokens = []\n",
    "for description in descriptions:\n",
    "    sentence = ' '.join(description)\n",
    "    tokens.extend(lm.tokenize_line(sentence, 2, by_char)) \n",
    "newsLM = LanguageModel(3)\n",
    "newsLM.train(tokens)\n",
    "# what is the maximum value of n <= 10 that you can train a model *in your programming environment* in a reasonable amount of time? (less than 3 - 5 minutes)\n",
    "# Past 5 n-grams it seems to get really slow\n",
    "\n",
    "# generate three sentences with this model (10 points)\n",
    "generatedNews = newsLM.generate(5)\n",
    "for line in generatedNews:\n",
    "    print(' '.join(line))"
   ]
  },
  {
   "cell_type": "markdown",
   "metadata": {},
   "source": [
    "BONUS\n",
    "----\n",
    "Implement the corresponding function and evaluate the perplexity of your model on the first 20 lines in the test data for values of `n` from 1 to 3. Perplexity should be individually calculated for each line."
   ]
  },
  {
   "cell_type": "code",
   "execution_count": 31,
   "metadata": {
    "tags": []
   },
   "outputs": [
    {
     "name": "stdout",
     "output_type": "stream",
     "text": [
      "********\n",
      "Ngram model: 1\n",
      "['a', 'vegetarian', 'meal'] 16.485574828308334\n",
      "['about', 'ten', 'miles'] 133.87546239124416\n",
      "['and', \"i'm\", 'willing', 'to', 'drive', 'ten', 'miles'] 84.51927038391058\n",
      "['and', 'this', 'will', 'be', 'for', 'dinner'] 90.74578481246313\n",
      "['are', 'any', 'of', 'these', 'restaurants', 'open', 'for', 'breakfast'] 113.20685347674052\n",
      "['are', 'there', 'russian', 'restaurants', 'in', 'berkeley'] 112.8128146375681\n",
      "['between', 'fifteen', 'and', 'twenty', 'dollars'] 163.60861696023719\n",
      "['can', 'you', 'at', 'least', 'list', 'the', 'nationality', 'of', 'these', 'restaurants'] 82.58128027464987\n",
      "['can', 'you', 'give', 'me', 'more', 'information', 'on', 'viva', 'taqueria'] 67.66148056419068\n",
      "['dining'] 7.694915254237287\n",
      "['display', 'sizzler'] 48.259655513508235\n",
      "['do', 'you', 'have', 'indonesian', 'food'] 83.61177691226855\n",
      "['do', 'you', 'know', 'any', 'pizza', 'places'] 108.69429900206879\n",
      "[\"doesn't\", 'matter'] 7.694915254237287\n",
      "['eat', 'on', 'a', 'weekday'] 51.173547570645106\n",
      "['eight', 'dollars'] 23.1831886219427\n",
      "['expensive'] 226.99999999999997\n",
      "['five', 'miles'] 262.1170222120901\n",
      "['give', 'me', 'the', 'list', 'of', 'restaurants', 'in', 'berkeley'] 120.78297373531493\n",
      "['how', 'about', 'italian', 'and', 'quite', 'expensive', 'is', 'fine'] 108.61364726442388\n",
      "********\n",
      "Ngram model: 2\n",
      "['a', 'vegetarian', 'meal'] 5.668533465242384\n",
      "['about', 'ten', 'miles'] 13.123091181212407\n",
      "['and', \"i'm\", 'willing', 'to', 'drive', 'ten', 'miles'] 23.036099949859082\n",
      "['and', 'this', 'will', 'be', 'for', 'dinner'] 24.88165945241744\n",
      "['are', 'any', 'of', 'these', 'restaurants', 'open', 'for', 'breakfast'] 28.515217851509007\n",
      "['are', 'there', 'russian', 'restaurants', 'in', 'berkeley'] 25.560975027839472\n",
      "['between', 'fifteen', 'and', 'twenty', 'dollars'] 21.790253403501747\n",
      "['can', 'you', 'at', 'least', 'list', 'the', 'nationality', 'of', 'these', 'restaurants'] 31.846342929296245\n",
      "['can', 'you', 'give', 'me', 'more', 'information', 'on', 'viva', 'taqueria'] 15.672603703230278\n",
      "['dining'] 1.0\n",
      "['display', 'sizzler'] 6.0553007081949835\n",
      "['do', 'you', 'have', 'indonesian', 'food'] 19.022310627884377\n",
      "['do', 'you', 'know', 'any', 'pizza', 'places'] 23.8729702171027\n",
      "[\"doesn't\", 'matter'] 3.2732683535398857\n",
      "['eat', 'on', 'a', 'weekday'] 13.942706841638355\n",
      "['eight', 'dollars'] 6.7082039324993685\n",
      "['expensive'] 1.0\n",
      "['five', 'miles'] 7.416198487095663\n",
      "['give', 'me', 'the', 'list', 'of', 'restaurants', 'in', 'berkeley'] 20.501354808556226\n",
      "['how', 'about', 'italian', 'and', 'quite', 'expensive', 'is', 'fine'] 29.124287431822857\n",
      "********\n",
      "Ngram model: 3\n",
      "['a', 'vegetarian', 'meal'] 3.8485011312768047\n",
      "['about', 'ten', 'miles'] 3.7913932634378904\n",
      "['and', \"i'm\", 'willing', 'to', 'drive', 'ten', 'miles'] 15.914249769676195\n",
      "['and', 'this', 'will', 'be', 'for', 'dinner'] 14.439857995222471\n",
      "['are', 'any', 'of', 'these', 'restaurants', 'open', 'for', 'breakfast'] 18.228043206741493\n",
      "['are', 'there', 'russian', 'restaurants', 'in', 'berkeley'] 12.845235840280534\n",
      "['between', 'fifteen', 'and', 'twenty', 'dollars'] 11.01128241231891\n",
      "['can', 'you', 'at', 'least', 'list', 'the', 'nationality', 'of', 'these', 'restaurants'] 23.71585556802971\n",
      "['can', 'you', 'give', 'me', 'more', 'information', 'on', 'viva', 'taqueria'] 16.504724664465435\n",
      "['dining'] 1.0\n",
      "['display', 'sizzler'] 1.0\n",
      "['do', 'you', 'have', 'indonesian', 'food'] 11.051397436596925\n",
      "['do', 'you', 'know', 'any', 'pizza', 'places'] 13.496657788020881\n",
      "[\"doesn't\", 'matter'] 1.0\n",
      "['eat', 'on', 'a', 'weekday'] 7.39928572368773\n",
      "['eight', 'dollars'] 1.0\n",
      "['expensive'] 1.0\n",
      "['five', 'miles'] 1.0\n",
      "['give', 'me', 'the', 'list', 'of', 'restaurants', 'in', 'berkeley'] 16.82903677285135\n",
      "['how', 'about', 'italian', 'and', 'quite', 'expensive', 'is', 'fine'] 20.172437445780005\n"
     ]
    }
   ],
   "source": [
    "test_path = \"testing_files/berp-test.txt\"\n",
    "test_data = lm.read_file(test_path)\n",
    "\n",
    "for ngram in range(1, 4):\n",
    "    print(\"********\")\n",
    "    print(\"Ngram model:\", ngram)\n",
    "    # YOUR CODE HERE\n",
    "    testLM2 = LanguageModel(ngram)\n",
    "    tokens = lm.tokenize(test_data, ngram, by_char=by_char)\n",
    "    testLM2.train(tokens)\n",
    "    sequences = []\n",
    "    for i in range(20):        \n",
    "        sequence = test_data[i].split()\n",
    "        sequences.append(sequence)\n",
    "    for sequence in sequences:\n",
    "        print(f\"{sequence} {testLM2.perplexity(sequence)}\")"
   ]
  },
  {
   "cell_type": "markdown",
   "metadata": {},
   "source": [
    "1. What are the common attributes of the test sentences that cause very high perplexity? They are usually the longer sentences and seem to have the most context. Also also the ngram size increase, the average perplexity decreases."
   ]
  },
  {
   "cell_type": "markdown",
   "metadata": {},
   "source": [
    "5 points in this assignment are reserved for overall style (both for writing and for code submitted). All work submitted should be clear, easily interpretable, and checked for spelling, etc. (Re-read what you write and make sure it makes sense). Course staff are always happy to give grammatical help (but we won't pre-grade the content of your answers)."
   ]
  }
 ],
 "metadata": {
  "kernelspec": {
   "display_name": "Python 3 (ipykernel)",
   "language": "python",
   "name": "python3"
  },
  "language_info": {
   "codemirror_mode": {
    "name": "ipython",
    "version": 3
   },
   "file_extension": ".py",
   "mimetype": "text/x-python",
   "name": "python",
   "nbconvert_exporter": "python",
   "pygments_lexer": "ipython3",
   "version": "3.11.5"
  }
 },
 "nbformat": 4,
 "nbformat_minor": 4
}
